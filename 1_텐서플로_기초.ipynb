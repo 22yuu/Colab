{
  "nbformat": 4,
  "nbformat_minor": 0,
  "metadata": {
    "colab": {
      "name": "1_텐서플로 기초.ipynb",
      "provenance": [],
      "collapsed_sections": [],
      "authorship_tag": "ABX9TyOC6HD0N2+RdGsg5TNb4U1j",
      "include_colab_link": true
    },
    "kernelspec": {
      "name": "python3",
      "display_name": "Python 3"
    },
    "language_info": {
      "name": "python"
    },
    "accelerator": "GPU"
  },
  "cells": [
    {
      "cell_type": "markdown",
      "metadata": {
        "id": "view-in-github",
        "colab_type": "text"
      },
      "source": [
        "<a href=\"https://colab.research.google.com/github/22yuu/Colab/blob/main/1_%ED%85%90%EC%84%9C%ED%94%8C%EB%A1%9C_%EA%B8%B0%EC%B4%88.ipynb\" target=\"_parent\"><img src=\"https://colab.research.google.com/assets/colab-badge.svg\" alt=\"Open In Colab\"/></a>"
      ]
    },
    {
      "cell_type": "code",
      "metadata": {
        "id": "lics_txDDaod",
        "colab": {
          "base_uri": "https://localhost:8080/",
          "height": 34
        },
        "outputId": "23f2e885-1106-4bc5-cb77-7bd2abbdbc42"
      },
      "source": [
        "\"\"\"\n",
        "날짜 : 2021/07/12\n",
        "이름 : 이진유\n",
        "내용 : 텐서플로 기초 실습하기\n",
        "\"\"\"\n",
        "\n",
        "import tensorflow as tf\n",
        "tf.__version__"
      ],
      "execution_count": 1,
      "outputs": [
        {
          "output_type": "execute_result",
          "data": {
            "application/vnd.google.colaboratory.intrinsic+json": {
              "type": "string"
            },
            "text/plain": [
              "'2.5.0'"
            ]
          },
          "metadata": {
            "tags": []
          },
          "execution_count": 1
        }
      ]
    },
    {
      "cell_type": "code",
      "metadata": {
        "id": "tpmHbGJKENGK",
        "colab": {
          "base_uri": "https://localhost:8080/"
        },
        "outputId": "4aa9c0d4-0010-475f-e784-07973cf9049f"
      },
      "source": [
        "# 텐서플로 상수\n",
        "var1 = tf.constant('Hello Tensorflow!')\n",
        "var2 = tf.constant(100)\n",
        "var3 = tf.constant([100, 100])\n",
        "print(var1)\n",
        "print(var2)\n",
        "print(var3)"
      ],
      "execution_count": 5,
      "outputs": [
        {
          "output_type": "stream",
          "text": [
            "tf.Tensor(b'Hello Tensorflow!', shape=(), dtype=string)\n",
            "tf.Tensor(100, shape=(), dtype=int32)\n",
            "tf.Tensor([100 100], shape=(2,), dtype=int32)\n"
          ],
          "name": "stdout"
        }
      ]
    },
    {
      "cell_type": "code",
      "metadata": {
        "colab": {
          "base_uri": "https://localhost:8080/"
        },
        "id": "FsEuJ51yTmnU",
        "outputId": "960a1ed8-12cb-4afb-f812-8b8b9ed6b1b7"
      },
      "source": [
        "# 텐서플로 변수\n",
        "num1 = tf.Variable(1)\n",
        "num2 = tf.Variable(2)\n",
        "num3 = num1 + num2\n",
        "num3"
      ],
      "execution_count": 7,
      "outputs": [
        {
          "output_type": "execute_result",
          "data": {
            "text/plain": [
              "<tf.Tensor: shape=(), dtype=int32, numpy=3>"
            ]
          },
          "metadata": {
            "tags": []
          },
          "execution_count": 7
        }
      ]
    },
    {
      "cell_type": "code",
      "metadata": {
        "id": "jtQ_nflvUGjc"
      },
      "source": [
        ""
      ],
      "execution_count": null,
      "outputs": []
    }
  ]
}