{
  "nbformat": 4,
  "nbformat_minor": 0,
  "metadata": {
    "colab": {
      "name": "2_Numpy 실습하기.ipynb",
      "provenance": [],
      "collapsed_sections": [],
      "authorship_tag": "ABX9TyNs8OeJnZwytWWrOs0APmgD",
      "include_colab_link": true
    },
    "kernelspec": {
      "name": "python3",
      "display_name": "Python 3"
    },
    "language_info": {
      "name": "python"
    }
  },
  "cells": [
    {
      "cell_type": "markdown",
      "metadata": {
        "id": "view-in-github",
        "colab_type": "text"
      },
      "source": [
        "<a href=\"https://colab.research.google.com/github/22yuu/Colab/blob/main/2_Numpy_%EC%8B%A4%EC%8A%B5%ED%95%98%EA%B8%B0.ipynb\" target=\"_parent\"><img src=\"https://colab.research.google.com/assets/colab-badge.svg\" alt=\"Open In Colab\"/></a>"
      ]
    },
    {
      "cell_type": "code",
      "metadata": {
        "id": "mXyZUynmNAGG"
      },
      "source": [
        "\"\"\"\n",
        "날짜 : 2021/07/05\n",
        "이름 : 이진유\n",
        "내용 : 파이썬 Numpy 패키지 실습하기\n",
        "\"\"\"\n",
        "\n",
        "import numpy as np"
      ],
      "execution_count": null,
      "outputs": []
    },
    {
      "cell_type": "code",
      "metadata": {
        "colab": {
          "base_uri": "https://localhost:8080/"
        },
        "id": "5mvG8669NRo8",
        "outputId": "a0bfc78d-4685-4c7f-fc32-2688568bffed"
      },
      "source": [
        "#Numpy 자료구조 - 벡터\n",
        "v1 = np.array([1, 2, 3, 4, 5])\n",
        "v1\n",
        "print('v1 : ', v1)\n",
        "\n",
        "v2 = np.arange(5)\n",
        "print('v2 : ', v2)\n",
        "\n",
        "v3 = np.arange(10)\n",
        "print('v3 : ', v3)"
      ],
      "execution_count": null,
      "outputs": [
        {
          "output_type": "stream",
          "text": [
            "v1 :  [1 2 3 4 5]\n",
            "v2 :  [0 1 2 3 4]\n",
            "v3 :  [0 1 2 3 4 5 6 7 8 9]\n"
          ],
          "name": "stdout"
        }
      ]
    },
    {
      "cell_type": "code",
      "metadata": {
        "colab": {
          "base_uri": "https://localhost:8080/"
        },
        "id": "GyYEumFPN5hf",
        "outputId": "3551721c-3dc6-43e5-8e4e-e31ea7fbec91"
      },
      "source": [
        "# 0 ~ 1 사이의 임의의 실수\n",
        "rand1 = np.random.rand(100)\n",
        "print(rand1)\n",
        "\n",
        "# 표준 정규분포를 따르는 실수 100개\n",
        "rand2 = np.random.randn(100)\n",
        "print(rand2)\n",
        "\n",
        "# 0 - 9 사이의 임의의 정수\n",
        "rand3 = np.random.randint(10)\n",
        "print(rand3)"
      ],
      "execution_count": null,
      "outputs": [
        {
          "output_type": "stream",
          "text": [
            "[0.90289857 0.66924798 0.15191424 0.01262603 0.88981675 0.60607861\n",
            " 0.4010815  0.23455573 0.5132389  0.71346227 0.48986218 0.02047637\n",
            " 0.04478925 0.43502638 0.39666036 0.68181771 0.31773412 0.07524765\n",
            " 0.18787981 0.73262451 0.68872525 0.79201805 0.88739485 0.41964614\n",
            " 0.84987923 0.19183872 0.46036134 0.74654837 0.48575324 0.40771081\n",
            " 0.27196082 0.22015291 0.20016114 0.74192132 0.97440081 0.81970866\n",
            " 0.74410928 0.06097326 0.42330755 0.77814714 0.31824068 0.72610065\n",
            " 0.29419796 0.17162745 0.91084124 0.76251362 0.55492055 0.83971934\n",
            " 0.64847896 0.99857551 0.40640586 0.32945911 0.86963488 0.85704689\n",
            " 0.45319872 0.35040593 0.39411931 0.65001709 0.05910235 0.78211635\n",
            " 0.99249    0.21195016 0.02263318 0.47837873 0.63262944 0.19145355\n",
            " 0.60213149 0.59168675 0.39913863 0.5761037  0.56631492 0.70772688\n",
            " 0.92433425 0.57742054 0.98091316 0.56848327 0.55655292 0.47156428\n",
            " 0.20937932 0.28036547 0.99585423 0.17249852 0.20645767 0.20930739\n",
            " 0.21639613 0.83039566 0.45374544 0.11360803 0.80883744 0.51972969\n",
            " 0.28814895 0.07655309 0.79632338 0.70706522 0.04541475 0.9025015\n",
            " 0.9918752  0.84432919 0.17292512 0.49264986]\n",
            "[ 1.01454287  0.93953362  0.76616735  0.15243213  0.14470607 -1.17954172\n",
            "  0.42102616  0.13974072 -0.08499066 -0.49633921 -1.01422998 -0.32182942\n",
            "  1.17868535 -0.9137249   0.6449354  -1.14120205 -0.31398836 -0.4858083\n",
            "  1.42249557 -0.26209967 -1.03691699 -1.13964287  0.95566489 -0.03685603\n",
            "  0.95887833  0.74159286 -1.36963118 -1.02669638  1.40764295  0.37135534\n",
            "  0.54699303 -0.73361154  0.37259077  1.16066159 -0.6702648   2.0450112\n",
            "  2.00214815  0.55350068  1.0149519   0.21833526  1.98912622 -0.68212617\n",
            "  1.53560085  1.10071013 -0.71555192  1.19735531  1.32827887 -0.15657269\n",
            "  1.02407212  0.63204624 -1.05263133 -1.76464438 -2.38442535 -0.63896565\n",
            "  0.85460986  0.27662721 -1.42194093 -0.66391771  1.54906322 -0.47792558\n",
            " -1.29373903  0.72633468 -1.48088999 -0.90139809  0.15840068 -1.75848516\n",
            " -1.53291432  0.15507275  0.54612077 -0.86871484 -0.34879434  1.39725326\n",
            " -1.62597629  0.5457119   0.64583462  0.64778254  0.03534747 -0.57516778\n",
            "  0.19711165 -0.52244254  0.27088686 -0.41492621 -0.17614948 -0.96014362\n",
            "  1.73756351  2.30169971  1.66118683  1.53220563  0.48905329 -0.39281475\n",
            " -1.02352239  1.02966867 -1.18626394 -0.07204518 -1.34955622  0.71049614\n",
            " -1.27419767  0.08451937 -0.40487544  1.13748081]\n",
            "0\n"
          ],
          "name": "stdout"
        }
      ]
    },
    {
      "cell_type": "code",
      "metadata": {
        "colab": {
          "base_uri": "https://localhost:8080/"
        },
        "id": "M47VCmd2OUXR",
        "outputId": "25326d9f-3fd1-479b-8b2f-22a563b64a10"
      },
      "source": [
        "# Numpy 자료구조 - 행렬\n",
        "m1 = np.array([[1,2],[3,4]])\n",
        "print(m1)\n",
        "\n",
        "m2 = np.array([[1,2,3], [4,5,6], [7,8,9]])\n",
        "print(m2)\n",
        "\n",
        "m3 = np.ones([2,4])\n",
        "print(m3)\n",
        "\n",
        "m4 = np.zeros([3,2])\n",
        "print(m4)"
      ],
      "execution_count": null,
      "outputs": [
        {
          "output_type": "stream",
          "text": [
            "[[1 2]\n",
            " [3 4]]\n",
            "[[1 2 3]\n",
            " [4 5 6]\n",
            " [7 8 9]]\n",
            "[[1. 1. 1. 1.]\n",
            " [1. 1. 1. 1.]]\n",
            "[[0. 0.]\n",
            " [0. 0.]\n",
            " [0. 0.]]\n"
          ],
          "name": "stdout"
        }
      ]
    },
    {
      "cell_type": "code",
      "metadata": {
        "colab": {
          "base_uri": "https://localhost:8080/"
        },
        "id": "1K2BLjXUN5wv",
        "outputId": "7658cca4-b716-46ea-c468-b23c6379a99f"
      },
      "source": [
        "# 전치행렬\n",
        "print(m1)\n",
        "print(m1.T)\n",
        "print(m2)\n",
        "print(m2.transpose())\n",
        "print(m2.T)"
      ],
      "execution_count": null,
      "outputs": [
        {
          "output_type": "stream",
          "text": [
            "[[1 2]\n",
            " [3 4]]\n",
            "[[1 3]\n",
            " [2 4]]\n",
            "[[1 2 3]\n",
            " [4 5 6]\n",
            " [7 8 9]]\n",
            "[[1 4 7]\n",
            " [2 5 8]\n",
            " [3 6 9]]\n",
            "[[1 4 7]\n",
            " [2 5 8]\n",
            " [3 6 9]]\n"
          ],
          "name": "stdout"
        }
      ]
    },
    {
      "cell_type": "code",
      "metadata": {
        "colab": {
          "base_uri": "https://localhost:8080/"
        },
        "id": "7lY4xQTRN52d",
        "outputId": "d787b0f7-e3a2-4827-faa7-553598806ad9"
      },
      "source": [
        "# 단위행렬\n",
        "e1 = np.identity(2)\n",
        "print(e1)\n",
        "\n",
        "e2 = np.identity(3)\n",
        "print(e2)"
      ],
      "execution_count": null,
      "outputs": [
        {
          "output_type": "stream",
          "text": [
            "[[1. 0.]\n",
            " [0. 1.]]\n",
            "[[1. 0. 0.]\n",
            " [0. 1. 0.]\n",
            " [0. 0. 1.]]\n"
          ],
          "name": "stdout"
        }
      ]
    },
    {
      "cell_type": "code",
      "metadata": {
        "colab": {
          "base_uri": "https://localhost:8080/"
        },
        "id": "R9UfsJ-fN58V",
        "outputId": "216e8ab1-c6dd-43a0-a72b-aa0d1997573e"
      },
      "source": [
        "# 역행렬\n",
        "im1 = np.linalg.inv(m1)\n",
        "print(im1)\n",
        "\n",
        "print(m1 * im1)\n",
        "result = m1.dot(im1)\n",
        "print(result.round())"
      ],
      "execution_count": null,
      "outputs": [
        {
          "output_type": "stream",
          "text": [
            "[[-2.   1. ]\n",
            " [ 1.5 -0.5]]\n"
          ],
          "name": "stdout"
        }
      ]
    },
    {
      "cell_type": "code",
      "metadata": {
        "colab": {
          "base_uri": "https://localhost:8080/"
        },
        "id": "fyaFUSZFS5Kn",
        "outputId": "97851633-3873-40d3-fed2-d58d866f3bfb"
      },
      "source": [
        "# 행렬 인덱싱\n",
        "matrix = np.array([[1,2,3,4], [5,6,7,8], [9, 10, 11, 12]])\n",
        "print(matrix)\n",
        "\n",
        "print(matrix[0, 0])\n",
        "print(matrix[0, :])\n",
        "print(matrix[:, 0])\n",
        "\n",
        "print(matrix[0:2, 0:2])\n",
        "print(matrix[:, 0:2])\n",
        "print(matrix[:, 2:4])\n",
        "print(matrix[1:3, 1:3])"
      ],
      "execution_count": null,
      "outputs": [
        {
          "output_type": "stream",
          "text": [
            "[[ 1  2  3  4]\n",
            " [ 5  6  7  8]\n",
            " [ 9 10 11 12]]\n",
            "1\n",
            "[1 2 3 4]\n",
            "[1 5 9]\n",
            "[[1 2]\n",
            " [5 6]]\n",
            "[[ 1  2]\n",
            " [ 5  6]\n",
            " [ 9 10]]\n",
            "[[ 3  4]\n",
            " [ 7  8]\n",
            " [11 12]]\n",
            "[[ 3  4]\n",
            " [ 7  8]\n",
            " [11 12]]\n",
            "[[ 6  7]\n",
            " [10 11]]\n"
          ],
          "name": "stdout"
        }
      ]
    },
    {
      "cell_type": "code",
      "metadata": {
        "colab": {
          "base_uri": "https://localhost:8080/"
        },
        "id": "3EBPIZebc700",
        "outputId": "8a536c05-e24a-4fb0-cc69-c4b4f5d696e3"
      },
      "source": [
        "from google.colab import drive\n",
        "drive.mount('/content/drive')"
      ],
      "execution_count": null,
      "outputs": [
        {
          "output_type": "stream",
          "text": [
            "Mounted at /content/drive\n"
          ],
          "name": "stdout"
        }
      ]
    }
  ]
}