{
  "nbformat": 4,
  "nbformat_minor": 0,
  "metadata": {
    "colab": {
      "name": "3_선형회귀 분석 실습.ipynb",
      "provenance": [],
      "collapsed_sections": [],
      "authorship_tag": "ABX9TyNnYG+66zCfwH/o2CH1RPRD",
      "include_colab_link": true
    },
    "kernelspec": {
      "name": "python3",
      "display_name": "Python 3"
    },
    "language_info": {
      "name": "python"
    }
  },
  "cells": [
    {
      "cell_type": "markdown",
      "metadata": {
        "id": "view-in-github",
        "colab_type": "text"
      },
      "source": [
        "<a href=\"https://colab.research.google.com/github/22yuu/Colab/blob/main/3_%EC%84%A0%ED%98%95%ED%9A%8C%EA%B7%80_%EB%B6%84%EC%84%9D_%EC%8B%A4%EC%8A%B5.ipynb\" target=\"_parent\"><img src=\"https://colab.research.google.com/assets/colab-badge.svg\" alt=\"Open In Colab\"/></a>"
      ]
    },
    {
      "cell_type": "code",
      "metadata": {
        "id": "KYD017LneTHM"
      },
      "source": [
        "\"\"\"\n",
        "날짜 : 2021/07/07\n",
        "이름 : 이진유\n",
        "내용 : 선형회귀 분석 실습하기\n",
        "\"\"\"\n",
        "\n",
        "from scipy import stats\n",
        "from sklearn.linear_model import LinearRegression"
      ],
      "execution_count": null,
      "outputs": []
    },
    {
      "cell_type": "code",
      "metadata": {
        "colab": {
          "base_uri": "https://localhost:8080/"
        },
        "id": "IfsL52ofee2-",
        "outputId": "8eb011ad-a8c2-4ae9-cddb-e68cc4743395"
      },
      "source": [
        "# 학습데이터 준비\n",
        "x_data = [170,155,150,175,165]\n",
        "y_data = [ 65, 50, 45, 70, 55]\n",
        "\n",
        "# 기울기, 절편 확인하기\n",
        "slope, intercept, r, p, std = stats.linregress(x_data, y_data)\n",
        "print('기울기 : ', slope)\n",
        "print('절편   : ', intercept)"
      ],
      "execution_count": null,
      "outputs": [
        {
          "output_type": "stream",
          "text": [
            "기울기 :  0.9767441860465116\n",
            "절편   :  -102.20930232558138\n"
          ],
          "name": "stdout"
        }
      ]
    },
    {
      "cell_type": "code",
      "metadata": {
        "id": "FP5akfEne3r1"
      },
      "source": [
        "# 학습하기(학습모델 정의)\n",
        "def model(x):\n",
        "  y = 0.9767441860465116 * x -102.20930232558138\n",
        "  return y"
      ],
      "execution_count": null,
      "outputs": []
    },
    {
      "cell_type": "code",
      "metadata": {
        "colab": {
          "base_uri": "https://localhost:8080/"
        },
        "id": "oi0J-EaogDKX",
        "outputId": "016dbd0b-7aa8-4145-c78e-93590e44b0a7"
      },
      "source": [
        "# 테스트하기\n",
        "test_data = [160,  172, 178, 186, 154]\n",
        "\n",
        "for i in test_data:\n",
        "  print(model(i), end=', ')\n"
      ],
      "execution_count": null,
      "outputs": [
        {
          "output_type": "stream",
          "text": [
            "54.06976744186048, 65.79069767441862, 71.6511627906977, 79.46511627906978, 48.209302325581405, "
          ],
          "name": "stdout"
        }
      ]
    },
    {
      "cell_type": "code",
      "metadata": {
        "id": "NWkYttd1ger2"
      },
      "source": [
        "# 선형회귀 알고리즘을 이용한 머신러닝\n",
        "from sklearn.linear_model import LinearRegression"
      ],
      "execution_count": null,
      "outputs": []
    },
    {
      "cell_type": "code",
      "metadata": {
        "colab": {
          "base_uri": "https://localhost:8080/"
        },
        "id": "b9rMUFW-hLwF",
        "outputId": "b39df329-4549-4e6b-f8a5-08e2efe3e777"
      },
      "source": [
        "train_data = [[170],[155],[150],[175],[165]]\n",
        "train_label = [ 65, 50, 45, 70, 55]\n",
        "\n",
        "# 학습하기\n",
        "model = LinearRegression()\n",
        "model.fit(train_data, train_label)\n"
      ],
      "execution_count": null,
      "outputs": [
        {
          "output_type": "execute_result",
          "data": {
            "text/plain": [
              "LinearRegression(copy_X=True, fit_intercept=True, n_jobs=None, normalize=False)"
            ]
          },
          "metadata": {
            "tags": []
          },
          "execution_count": 9
        }
      ]
    },
    {
      "cell_type": "code",
      "metadata": {
        "colab": {
          "base_uri": "https://localhost:8080/"
        },
        "id": "ROCY7yXyhvm1",
        "outputId": "6633e9e8-46ab-438c-d428-b7ef2c1d2acb"
      },
      "source": [
        "# 테스트하기\n",
        "test_data = [[160],  [172], [178], [186], [154]]\n",
        "result = model.predict(test_data)\n",
        "result\n"
      ],
      "execution_count": null,
      "outputs": [
        {
          "output_type": "execute_result",
          "data": {
            "text/plain": [
              "array([54.06976744, 65.79069767, 71.65116279, 79.46511628, 48.20930233])"
            ]
          },
          "metadata": {
            "tags": []
          },
          "execution_count": 11
        }
      ]
    },
    {
      "cell_type": "code",
      "metadata": {
        "id": "DVIxRTP-h-yF"
      },
      "source": [
        ""
      ],
      "execution_count": null,
      "outputs": []
    }
  ]
}