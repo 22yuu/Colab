{
  "nbformat": 4,
  "nbformat_minor": 0,
  "metadata": {
    "colab": {
      "name": "4_다중 선형회귀 실습.ipynb",
      "provenance": [],
      "collapsed_sections": [],
      "authorship_tag": "ABX9TyPrzFGbQIt7xgH2tYZTKALZ",
      "include_colab_link": true
    },
    "kernelspec": {
      "name": "python3",
      "display_name": "Python 3"
    },
    "language_info": {
      "name": "python"
    }
  },
  "cells": [
    {
      "cell_type": "markdown",
      "metadata": {
        "id": "view-in-github",
        "colab_type": "text"
      },
      "source": [
        "<a href=\"https://colab.research.google.com/github/22yuu/Colab/blob/main/4_%EB%8B%A4%EC%A4%91_%EC%84%A0%ED%98%95%ED%9A%8C%EA%B7%80_%EC%8B%A4%EC%8A%B5.ipynb\" target=\"_parent\"><img src=\"https://colab.research.google.com/assets/colab-badge.svg\" alt=\"Open In Colab\"/></a>"
      ]
    },
    {
      "cell_type": "code",
      "metadata": {
        "id": "wFfGrTBNjNJz"
      },
      "source": [
        "\"\"\"\n",
        "날짜 : 2021/07/07\n",
        "이름 : 이진유\n",
        "내용 : 다중 선형회귀 실습하기\n",
        "\"\"\"\n",
        "from sklearn.linear_model import LinearRegression\n",
        "from sklearn import svm"
      ],
      "execution_count": 8,
      "outputs": []
    },
    {
      "cell_type": "code",
      "metadata": {
        "id": "SUfe_I7bjh52"
      },
      "source": [
        "# 다중 선형회귀 - 독립변수 2개 이상 (키, 나이)\n",
        "# 학습데이터\n",
        "train_data = [[170, 30], [155, 60], [150, 50], [175, 40], [165, 20]]\n",
        "train_label = [65, 50, 45, 70, 55]"
      ],
      "execution_count": 4,
      "outputs": []
    },
    {
      "cell_type": "code",
      "metadata": {
        "colab": {
          "base_uri": "https://localhost:8080/"
        },
        "id": "CmRKS0BPjwrm",
        "outputId": "4ed11cce-531f-41a8-bad1-99daec123f0e"
      },
      "source": [
        "# 학습하기\n",
        "#model = LinearRegression()\n",
        "model = svm.SVC()\n",
        "model.fit(train_data, train_label)"
      ],
      "execution_count": 9,
      "outputs": [
        {
          "output_type": "execute_result",
          "data": {
            "text/plain": [
              "SVC(C=1.0, break_ties=False, cache_size=200, class_weight=None, coef0=0.0,\n",
              "    decision_function_shape='ovr', degree=3, gamma='scale', kernel='rbf',\n",
              "    max_iter=-1, probability=False, random_state=None, shrinking=True,\n",
              "    tol=0.001, verbose=False)"
            ]
          },
          "metadata": {
            "tags": []
          },
          "execution_count": 9
        }
      ]
    },
    {
      "cell_type": "code",
      "metadata": {
        "colab": {
          "base_uri": "https://localhost:8080/"
        },
        "id": "DeyzKShAkQ1G",
        "outputId": "03d6995f-b74c-4fc5-a88e-ba3335479412"
      },
      "source": [
        "# 테스트하기\n",
        "test_data = [[172, 21], [186, 43], [178, 39]]\n",
        "result = model.predict(test_data)\n",
        "print(result)"
      ],
      "execution_count": 10,
      "outputs": [
        {
          "output_type": "stream",
          "text": [
            "[55 70 70]\n"
          ],
          "name": "stdout"
        }
      ]
    },
    {
      "cell_type": "code",
      "metadata": {
        "colab": {
          "base_uri": "https://localhost:8080/"
        },
        "id": "BPkB0cJulRR9",
        "outputId": "e11d69ff-0f89-4c6e-a34b-ec5b871500dc"
      },
      "source": [
        "# 학습데이터 (키, 나이, 성별)\n",
        "train_data = [[170, 30, 1], [155, 60, 2], [150, 50, 2], [175, 40, 2], [165, 20, 2]]\n",
        "\n",
        "linear_model = LinearRegression()\n",
        "svm_model = svm.SVC()\n",
        "\n",
        "linear_model.fit(train_data, train_label)\n",
        "svm_model.fit(train_data, train_label)"
      ],
      "execution_count": 12,
      "outputs": [
        {
          "output_type": "execute_result",
          "data": {
            "text/plain": [
              "SVC(C=1.0, break_ties=False, cache_size=200, class_weight=None, coef0=0.0,\n",
              "    decision_function_shape='ovr', degree=3, gamma='scale', kernel='rbf',\n",
              "    max_iter=-1, probability=False, random_state=None, shrinking=True,\n",
              "    tol=0.001, verbose=False)"
            ]
          },
          "metadata": {
            "tags": []
          },
          "execution_count": 12
        }
      ]
    },
    {
      "cell_type": "code",
      "metadata": {
        "colab": {
          "base_uri": "https://localhost:8080/"
        },
        "id": "wKeD_5tllpQl",
        "outputId": "224c6b53-2a7b-4dce-e41a-7bba4598109b"
      },
      "source": [
        "test_data = [[172, 21, 1], [186, 43, 2], [178, 39, 1]]\n",
        "linear_result = linear_model.predict(test_data)\n",
        "svm_result = svm_model.predict(test_data)\n",
        "\n",
        "print(f'linear_result : {linear_result}')\n",
        "print(f'svm_result : {svm_result}')"
      ],
      "execution_count": 15,
      "outputs": [
        {
          "output_type": "stream",
          "text": [
            "linear_result : [65.74166667 81.89166667 75.09166667]\n",
            "svm_result : [55 70 70]\n"
          ],
          "name": "stdout"
        }
      ]
    }
  ]
}