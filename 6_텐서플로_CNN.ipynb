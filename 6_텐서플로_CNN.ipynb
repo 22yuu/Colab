{
  "nbformat": 4,
  "nbformat_minor": 0,
  "metadata": {
    "colab": {
      "name": "6_텐서플로_CNN.ipynb",
      "provenance": [],
      "mount_file_id": "1Vq9WhK4Be4JPrnmcJ_ql2rJpvLDw-alA",
      "authorship_tag": "ABX9TyPwEFTfYeqzIRDlbq5PZ4Lg",
      "include_colab_link": true
    },
    "kernelspec": {
      "name": "python3",
      "display_name": "Python 3"
    },
    "language_info": {
      "name": "python"
    }
  },
  "cells": [
    {
      "cell_type": "markdown",
      "metadata": {
        "id": "view-in-github",
        "colab_type": "text"
      },
      "source": [
        "<a href=\"https://colab.research.google.com/github/22yuu/Colab/blob/main/6_%ED%85%90%EC%84%9C%ED%94%8C%EB%A1%9C_CNN.ipynb\" target=\"_parent\"><img src=\"https://colab.research.google.com/assets/colab-badge.svg\" alt=\"Open In Colab\"/></a>"
      ]
    },
    {
      "cell_type": "code",
      "metadata": {
        "colab": {
          "base_uri": "https://localhost:8080/",
          "height": 34
        },
        "id": "f_BEIrVHxvfY",
        "outputId": "d5394faf-d095-4e1d-db36-69390dda8297"
      },
      "source": [
        "\"\"\"\n",
        "날짜 : 2021/07/13\n",
        "이름 : 이진유\n",
        "내용 : 텐서플로 Cifar CNN 모델 사용하기\n",
        "\"\"\"\n",
        "import tensorflow as tf\n",
        "from tensorflow.keras.datasets.cifar10 import load_data\n",
        "from tensorflow.keras.utils import to_categorical\n",
        "from tensorflow.keras.models import load_model\n",
        "tf.__version__"
      ],
      "execution_count": 8,
      "outputs": [
        {
          "output_type": "execute_result",
          "data": {
            "application/vnd.google.colaboratory.intrinsic+json": {
              "type": "string"
            },
            "text/plain": [
              "'2.5.0'"
            ]
          },
          "metadata": {
            "tags": []
          },
          "execution_count": 8
        }
      ]
    },
    {
      "cell_type": "code",
      "metadata": {
        "id": "rdvYor6w0SMN"
      },
      "source": [
        "#데이터 불러오기\n",
        "(cifar_train_data, cifar_train_label), (cifar_test_data, cifar_test_label) = load_data()\n"
      ],
      "execution_count": 9,
      "outputs": []
    },
    {
      "cell_type": "code",
      "metadata": {
        "id": "RJvHmzGF0UXs"
      },
      "source": [
        "#모델학습을 위한 데이터 전처리(정규화)\n",
        "cifar_train_data = cifar_train_data / 255\n",
        "cifar_test_data = cifar_test_data / 255\n",
        "\n",
        "#데이터의 라벨을 범주형(one-hot encoding)으로 변환\n",
        "cifar_train_label = to_categorical(cifar_train_label)\n",
        "cifar_test_label = to_categorical(cifar_test_label)"
      ],
      "execution_count": 10,
      "outputs": []
    },
    {
      "cell_type": "code",
      "metadata": {
        "colab": {
          "base_uri": "https://localhost:8080/"
        },
        "id": "oAunCtGx0XDd",
        "outputId": "228b771f-6a51-4350-c456-87238c27b68c"
      },
      "source": [
        "\n",
        "#외부 모델 불러오기\n",
        "model = load_model('/content/drive/MyDrive/Colab Notebooks/file/cifar_model1.h5')\n",
        "model.summary()"
      ],
      "execution_count": 13,
      "outputs": [
        {
          "output_type": "stream",
          "text": [
            "Model: \"sequential\"\n",
            "_________________________________________________________________\n",
            "Layer (type)                 Output Shape              Param #   \n",
            "=================================================================\n",
            "conv2d (Conv2D)              (None, 32, 32, 32)        896       \n",
            "_________________________________________________________________\n",
            "conv2d_1 (Conv2D)            (None, 32, 32, 32)        9248      \n",
            "_________________________________________________________________\n",
            "max_pooling2d (MaxPooling2D) (None, 16, 16, 32)        0         \n",
            "_________________________________________________________________\n",
            "conv2d_2 (Conv2D)            (None, 16, 16, 64)        18496     \n",
            "_________________________________________________________________\n",
            "conv2d_3 (Conv2D)            (None, 16, 16, 64)        36928     \n",
            "_________________________________________________________________\n",
            "max_pooling2d_1 (MaxPooling2 (None, 8, 8, 64)          0         \n",
            "_________________________________________________________________\n",
            "conv2d_4 (Conv2D)            (None, 8, 8, 128)         73856     \n",
            "_________________________________________________________________\n",
            "conv2d_5 (Conv2D)            (None, 8, 8, 128)         147584    \n",
            "_________________________________________________________________\n",
            "max_pooling2d_2 (MaxPooling2 (None, 4, 4, 128)         0         \n",
            "_________________________________________________________________\n",
            "flatten (Flatten)            (None, 2048)              0         \n",
            "_________________________________________________________________\n",
            "dense (Dense)                (None, 256)               524544    \n",
            "_________________________________________________________________\n",
            "dense_1 (Dense)              (None, 10)                2570      \n",
            "=================================================================\n",
            "Total params: 814,122\n",
            "Trainable params: 814,122\n",
            "Non-trainable params: 0\n",
            "_________________________________________________________________\n"
          ],
          "name": "stdout"
        }
      ]
    },
    {
      "cell_type": "code",
      "metadata": {
        "colab": {
          "base_uri": "https://localhost:8080/"
        },
        "id": "fVOieZB_0bJt",
        "outputId": "6f26a11b-288c-4ef7-ad8c-28dfcec0dee6"
      },
      "source": [
        "#평가하기\n",
        "model.evaluate(cifar_test_data, cifar_test_label)"
      ],
      "execution_count": 14,
      "outputs": [
        {
          "output_type": "stream",
          "text": [
            "313/313 [==============================] - 19s 58ms/step - loss: 0.9585 - acc: 0.7693\n"
          ],
          "name": "stdout"
        },
        {
          "output_type": "execute_result",
          "data": {
            "text/plain": [
              "[0.9585058689117432, 0.7692999839782715]"
            ]
          },
          "metadata": {
            "tags": []
          },
          "execution_count": 14
        }
      ]
    }
  ]
}